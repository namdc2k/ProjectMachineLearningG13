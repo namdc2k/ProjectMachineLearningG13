{
 "cells": [
  {
   "cell_type": "code",
   "execution_count": 11,
   "id": "ad1b5e04-fb44-426e-a8da-89048c980cd9",
   "metadata": {},
   "outputs": [],
   "source": [
    "import numpy as np\n",
    "import pandas as pd\n",
    "import matplotlib.pyplot as plt\n",
    "import joblib\n",
    "from sklearn import preprocessing as pre, svm\n",
    "from sklearn.model_selection import train_test_split"
   ]
  },
  {
   "cell_type": "code",
   "execution_count": 12,
   "id": "de5c58e5-9cff-4195-ad45-7e29d60c53af",
   "metadata": {},
   "outputs": [
    {
     "data": {
      "text/html": [
       "<div>\n",
       "<style scoped>\n",
       "    .dataframe tbody tr th:only-of-type {\n",
       "        vertical-align: middle;\n",
       "    }\n",
       "\n",
       "    .dataframe tbody tr th {\n",
       "        vertical-align: top;\n",
       "    }\n",
       "\n",
       "    .dataframe thead th {\n",
       "        text-align: right;\n",
       "    }\n",
       "</style>\n",
       "<table border=\"1\" class=\"dataframe\">\n",
       "  <thead>\n",
       "    <tr style=\"text-align: right;\">\n",
       "      <th></th>\n",
       "      <th>tem</th>\n",
       "      <th>rain</th>\n",
       "      <th>rain%</th>\n",
       "      <th>cloud</th>\n",
       "      <th>pressure</th>\n",
       "      <th>wind</th>\n",
       "      <th>gust</th>\n",
       "      <th>forecast</th>\n",
       "      <th>dateTime</th>\n",
       "      <th>Jan</th>\n",
       "      <th>...</th>\n",
       "      <th>Mar</th>\n",
       "      <th>Apr</th>\n",
       "      <th>May</th>\n",
       "      <th>Jun</th>\n",
       "      <th>Jul</th>\n",
       "      <th>Aug</th>\n",
       "      <th>Sep</th>\n",
       "      <th>Oct</th>\n",
       "      <th>Nov</th>\n",
       "      <th>Dec</th>\n",
       "    </tr>\n",
       "  </thead>\n",
       "  <tbody>\n",
       "    <tr>\n",
       "      <th>0</th>\n",
       "      <td>27</td>\n",
       "      <td>0.0</td>\n",
       "      <td>0</td>\n",
       "      <td>43</td>\n",
       "      <td>1012</td>\n",
       "      <td>9</td>\n",
       "      <td>16</td>\n",
       "      <td>14</td>\n",
       "      <td>2009101300</td>\n",
       "      <td>0</td>\n",
       "      <td>...</td>\n",
       "      <td>0</td>\n",
       "      <td>0</td>\n",
       "      <td>0</td>\n",
       "      <td>0</td>\n",
       "      <td>0</td>\n",
       "      <td>0</td>\n",
       "      <td>0</td>\n",
       "      <td>1</td>\n",
       "      <td>0</td>\n",
       "      <td>0</td>\n",
       "    </tr>\n",
       "    <tr>\n",
       "      <th>1</th>\n",
       "      <td>25</td>\n",
       "      <td>0.1</td>\n",
       "      <td>0</td>\n",
       "      <td>70</td>\n",
       "      <td>1011</td>\n",
       "      <td>13</td>\n",
       "      <td>22</td>\n",
       "      <td>1</td>\n",
       "      <td>2009101303</td>\n",
       "      <td>0</td>\n",
       "      <td>...</td>\n",
       "      <td>0</td>\n",
       "      <td>0</td>\n",
       "      <td>0</td>\n",
       "      <td>0</td>\n",
       "      <td>0</td>\n",
       "      <td>0</td>\n",
       "      <td>0</td>\n",
       "      <td>1</td>\n",
       "      <td>0</td>\n",
       "      <td>0</td>\n",
       "    </tr>\n",
       "    <tr>\n",
       "      <th>2</th>\n",
       "      <td>25</td>\n",
       "      <td>0.0</td>\n",
       "      <td>0</td>\n",
       "      <td>38</td>\n",
       "      <td>1012</td>\n",
       "      <td>8</td>\n",
       "      <td>14</td>\n",
       "      <td>14</td>\n",
       "      <td>2009101306</td>\n",
       "      <td>0</td>\n",
       "      <td>...</td>\n",
       "      <td>0</td>\n",
       "      <td>0</td>\n",
       "      <td>0</td>\n",
       "      <td>0</td>\n",
       "      <td>0</td>\n",
       "      <td>0</td>\n",
       "      <td>0</td>\n",
       "      <td>1</td>\n",
       "      <td>0</td>\n",
       "      <td>0</td>\n",
       "    </tr>\n",
       "    <tr>\n",
       "      <th>3</th>\n",
       "      <td>25</td>\n",
       "      <td>15.9</td>\n",
       "      <td>0</td>\n",
       "      <td>82</td>\n",
       "      <td>1013</td>\n",
       "      <td>13</td>\n",
       "      <td>22</td>\n",
       "      <td>3</td>\n",
       "      <td>2009101309</td>\n",
       "      <td>0</td>\n",
       "      <td>...</td>\n",
       "      <td>0</td>\n",
       "      <td>0</td>\n",
       "      <td>0</td>\n",
       "      <td>0</td>\n",
       "      <td>0</td>\n",
       "      <td>0</td>\n",
       "      <td>0</td>\n",
       "      <td>1</td>\n",
       "      <td>0</td>\n",
       "      <td>0</td>\n",
       "    </tr>\n",
       "    <tr>\n",
       "      <th>4</th>\n",
       "      <td>25</td>\n",
       "      <td>17.9</td>\n",
       "      <td>0</td>\n",
       "      <td>99</td>\n",
       "      <td>1011</td>\n",
       "      <td>10</td>\n",
       "      <td>16</td>\n",
       "      <td>3</td>\n",
       "      <td>2009101312</td>\n",
       "      <td>0</td>\n",
       "      <td>...</td>\n",
       "      <td>0</td>\n",
       "      <td>0</td>\n",
       "      <td>0</td>\n",
       "      <td>0</td>\n",
       "      <td>0</td>\n",
       "      <td>0</td>\n",
       "      <td>0</td>\n",
       "      <td>1</td>\n",
       "      <td>0</td>\n",
       "      <td>0</td>\n",
       "    </tr>\n",
       "  </tbody>\n",
       "</table>\n",
       "<p>5 rows × 21 columns</p>\n",
       "</div>"
      ],
      "text/plain": [
       "   tem  rain  rain%  cloud  pressure  wind  gust  forecast    dateTime  Jan  \\\n",
       "0   27   0.0      0     43      1012     9    16        14  2009101300    0   \n",
       "1   25   0.1      0     70      1011    13    22         1  2009101303    0   \n",
       "2   25   0.0      0     38      1012     8    14        14  2009101306    0   \n",
       "3   25  15.9      0     82      1013    13    22         3  2009101309    0   \n",
       "4   25  17.9      0     99      1011    10    16         3  2009101312    0   \n",
       "\n",
       "   ...  Mar  Apr  May  Jun  Jul  Aug  Sep  Oct  Nov  Dec  \n",
       "0  ...    0    0    0    0    0    0    0    1    0    0  \n",
       "1  ...    0    0    0    0    0    0    0    1    0    0  \n",
       "2  ...    0    0    0    0    0    0    0    1    0    0  \n",
       "3  ...    0    0    0    0    0    0    0    1    0    0  \n",
       "4  ...    0    0    0    0    0    0    0    1    0    0  \n",
       "\n",
       "[5 rows x 21 columns]"
      ]
     },
     "execution_count": 12,
     "metadata": {},
     "output_type": "execute_result"
    }
   ],
   "source": [
    "df = pd.read_csv(\"input/weather3.csv\")\n",
    "df.head()"
   ]
  },
  {
   "cell_type": "code",
   "execution_count": null,
   "id": "099187a6-851b-40c5-9bed-43d9aaf253a2",
   "metadata": {},
   "outputs": [],
   "source": []
  },
  {
   "cell_type": "code",
   "execution_count": 13,
   "id": "01a08a5c-69b3-4ca0-aeab-36a41559bbf7",
   "metadata": {},
   "outputs": [
    {
     "data": {
      "text/plain": [
       "(array([[27. ,  0. ,  0. , ...,  1. ,  0. ,  0. ],\n",
       "        [25. ,  0.1,  0. , ...,  1. ,  0. ,  0. ],\n",
       "        [25. ,  0. ,  0. , ...,  1. ,  0. ,  0. ],\n",
       "        ...,\n",
       "        [19. ,  0. ,  0. , ...,  0. ,  0. ,  1. ],\n",
       "        [18. ,  0. ,  0. , ...,  0. ,  0. ,  1. ],\n",
       "        [18. ,  0. ,  0. , ...,  0. ,  0. ,  1. ]]),\n",
       " 0         43\n",
       " 1         70\n",
       " 2         38\n",
       " 3         82\n",
       " 4         99\n",
       "         ... \n",
       " 35675    100\n",
       " 35676     80\n",
       " 35677     45\n",
       " 35678     68\n",
       " 35679     64\n",
       " Name: cloud, Length: 35680, dtype: int64)"
      ]
     },
     "execution_count": 13,
     "metadata": {},
     "output_type": "execute_result"
    }
   ],
   "source": [
    "x = np.array(df.drop(['cloud', 'dateTime'], axis=1))\n",
    "y = df['cloud']\n",
    "x,y"
   ]
  },
  {
   "cell_type": "code",
   "execution_count": 14,
   "id": "c14cf12d-0252-43cf-a27d-f120e930aba4",
   "metadata": {},
   "outputs": [
    {
     "data": {
      "text/plain": [
       "array([[20. ,  0. ,  0. , ...,  0. ,  0. ,  0. ],\n",
       "       [36. ,  0.2,  0. , ...,  0. ,  0. ,  0. ],\n",
       "       [18. ,  0. ,  0. , ...,  0. ,  0. ,  0. ],\n",
       "       ...,\n",
       "       [40. ,  0.1,  0. , ...,  0. ,  0. ,  0. ],\n",
       "       [25. ,  0. ,  0. , ...,  0. ,  0. ,  0. ],\n",
       "       [29. ,  0. ,  0. , ...,  0. ,  0. ,  0. ]])"
      ]
     },
     "execution_count": 14,
     "metadata": {},
     "output_type": "execute_result"
    }
   ],
   "source": [
    "x_train, x_test, y_train, y_test = train_test_split(\n",
    "            x, y, test_size=0.1,random_state=0)\n",
    "x_test"
   ]
  },
  {
   "cell_type": "code",
   "execution_count": 15,
   "id": "526e9777-bd92-4884-9071-e2d1e803663a",
   "metadata": {},
   "outputs": [],
   "source": [
    "scaler = pre.StandardScaler().fit(x_train)\n",
    "x_train_scaled = scaler.transform(x_train)\n",
    "x_test_scaled = scaler.transform(x_test)"
   ]
  },
  {
   "cell_type": "code",
   "execution_count": 16,
   "id": "9ac3befc-e20e-49b3-b197-b7730887b4cc",
   "metadata": {
    "tags": []
   },
   "outputs": [
    {
     "name": "stdout",
     "output_type": "stream",
     "text": [
      "training model sucsess...\n"
     ]
    }
   ],
   "source": [
    "try:\n",
    "    SVR_model = joblib.load('modelCloud.pkl')\n",
    "except:\n",
    "    print(\"Failed, training model.....\")\n",
    "    SVR_model = svm.SVR(kernel='rbf', C=100, gamma=0.1).fit(\n",
    "        x_train_scaled, y_train)\n",
    "    joblib.dump(SVR_model, 'modelCloud.pkl')\n",
    "print(\"training model sucsess...\")"
   ]
  },
  {
   "cell_type": "code",
   "execution_count": 17,
   "id": "6b17eeb4-11c2-483a-84fe-dbb6e82dabd1",
   "metadata": {},
   "outputs": [],
   "source": [
    "predict_y_array = SVR_model.predict(x_test_scaled)\n",
    "score = SVR_model.score(x_test_scaled, y_test)"
   ]
  },
  {
   "cell_type": "code",
   "execution_count": 18,
   "id": "b88b9f93-1f89-489b-ac24-101020a281cf",
   "metadata": {},
   "outputs": [
    {
     "name": "stdout",
     "output_type": "stream",
     "text": [
      "Score of 0.5388820857259935\n"
     ]
    }
   ],
   "source": [
    "print(\"Score of\", score)"
   ]
  },
  {
   "cell_type": "code",
   "execution_count": 19,
   "id": "5843efc5-9f7a-40cf-b86e-af2f2c4da874",
   "metadata": {},
   "outputs": [
    {
     "data": {
      "image/png": "[encoded data removed]",
      "text/plain": [
       "<Figure size 432x288 with 1 Axes>"
      ]
     },
     "metadata": {
      "needs_background": "light"
     },
     "output_type": "display_data"
    }
   ],
   "source": [
    "y_test_np = np.array(y_test[0:50])\n",
    "plt.plot(y_test_np, color='g', label=\"Actual \" + 'cloud')\n",
    "plt.plot(predict_y_array[0:50], color='r', label=\"Predicted \" + 'cloud')\n",
    "\n",
    "plt.xlabel('day')\n",
    "plt.ylabel('%')\n",
    "plt.title('Cloud forecast')\n",
    "plt.legend()\n",
    "plt.show()"
   ]
  },
  {
   "cell_type": "code",
   "execution_count": 20,
   "id": "74bcb5a6-9048-40d5-a04b-00556e41add6",
   "metadata": {
    "tags": []
   },
   "outputs": [
    {
     "data": {
      "image/png": "[encoded data removed]",
      "text/plain": [
       "<Figure size 432x288 with 1 Axes>"
      ]
     },
     "metadata": {
      "needs_background": "light"
     },
     "output_type": "display_data"
    }
   ],
   "source": [
    "y_test_np = np.array(y_test)\n",
    "plt.plot(y_test_np, color='g', label=\"Actual \" + 'cloud')\n",
    "plt.plot(predict_y_array, color='r', label=\"Predicted \" + 'cloud')\n",
    "\n",
    "plt.xlabel('day')\n",
    "plt.ylabel('%')\n",
    "plt.title('Cloud forecast')\n",
    "plt.legend()\n",
    "plt.show()"
   ]
  },
  {
   "cell_type": "code",
   "execution_count": null,
   "id": "baa6bc28-5a1b-43f5-8a80-d4c51ccf38d3",
   "metadata": {},
   "outputs": [],
   "source": []
  }
 ],
 "metadata": {
  "kernelspec": {
   "display_name": "Python 3",
   "language": "python",
   "name": "python3"
  },
  "language_info": {
   "codemirror_mode": {
    "name": "ipython",
    "version": 3
   },
   "file_extension": ".py",
   "mimetype": "text/x-python",
   "name": "python",
   "nbconvert_exporter": "python",
   "pygments_lexer": "ipython3",
   "version": "3.8.8"
  }
 },
 "nbformat": 4,
 "nbformat_minor": 5
}
